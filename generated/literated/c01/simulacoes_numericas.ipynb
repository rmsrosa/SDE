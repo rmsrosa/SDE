{
 "cells": [
  {
   "cell_type": "markdown",
   "source": [
    "# Simulações numéricas"
   ],
   "metadata": {}
  },
  {
   "cell_type": "markdown",
   "source": [
    "Vamos ilustrar a resolução numérica via método de Euler descrito na seção anterior."
   ],
   "metadata": {}
  },
  {
   "cell_type": "markdown",
   "source": [
    "O único pacote que precisaremos é o [`Plots.jl`](https://docs.juliaplots.org/stable/), para visualização das soluções."
   ],
   "metadata": {}
  },
  {
   "outputs": [],
   "cell_type": "code",
   "source": [
    "using Plots"
   ],
   "metadata": {},
   "execution_count": null
  },
  {
   "cell_type": "markdown",
   "source": [
    "## Equações diferenciais ordinárias"
   ],
   "metadata": {}
  },
  {
   "cell_type": "markdown",
   "source": [
    "Consideramos o problema de crescimento populacional\n",
    "$$\n",
    "\\begin{cases}\n",
    "  \\displaystyle \\frac{\\mathrm{d}x}{\\mathrm{d}t} = \\mu x, \\quad t > 0,\\\\\n",
    "  x(0) = x_0\n",
    "\\end{cases}\n",
    "$$\n",
    "\n",
    "Com $\\mu > 0$ fixo, a solução é $x(t) = x_0 e^{\\mu t}$, para $t \\geq 0$.\n",
    "\n",
    "Resolvendo-o pelo método de Euler, num intervalo $0 \\leq t \\leq T$, com $T > 0$ e um passo de tempo $\\Delta t > 0$, obtemos a sequência de valores aproximados\n",
    "$$\n",
    "x_{n+1} = x_n + \\mu \\Delta t x_n, \\quad n = 0, 1, \\dots, T/\\Delta t,\n",
    "$$\n",
    "onde $\\Delta t > 0$."
   ],
   "metadata": {}
  },
  {
   "cell_type": "markdown",
   "source": [
    "Escolhemos valores para $T$, $\\mu$ e $x_0$:"
   ],
   "metadata": {}
  },
  {
   "outputs": [],
   "cell_type": "code",
   "source": [
    "t0 = 0.0\n",
    "T = 20.0\n",
    "μ = 0.1\n",
    "x₀ = 0.2\n",
    "nothing"
   ],
   "metadata": {},
   "execution_count": null
  },
  {
   "cell_type": "markdown",
   "source": [
    "Escolhemos, também, um valor para o passo de tempo, obtendo a malha temporal:"
   ],
   "metadata": {}
  },
  {
   "outputs": [],
   "cell_type": "code",
   "source": [
    "Δt = 0.2\n",
    "t = t0:Δt:T"
   ],
   "metadata": {},
   "execution_count": null
  },
  {
   "cell_type": "markdown",
   "source": [
    "Isso nos $N+1$ pontos na malha, onde"
   ],
   "metadata": {}
  },
  {
   "outputs": [],
   "cell_type": "code",
   "source": [
    "N = Int(round(T/Δt))"
   ],
   "metadata": {},
   "execution_count": null
  },
  {
   "cell_type": "markdown",
   "source": [
    "Com isso, podemos pré-alocar a solução numérica em um vetor:"
   ],
   "metadata": {}
  },
  {
   "outputs": [],
   "cell_type": "code",
   "source": [
    "x = Vector{Float64}(undef, N+1)\n",
    "nothing"
   ],
   "metadata": {},
   "execution_count": null
  },
  {
   "cell_type": "markdown",
   "source": [
    "Iniciando o vetor com o valor de $x_0$ e iterando de acordo com o método de Euler, obtemos a solução numérica aproximada:"
   ],
   "metadata": {}
  },
  {
   "outputs": [],
   "cell_type": "code",
   "source": [
    "x[1] = x₀\n",
    "for n in 2:N+1\n",
    "    x[n] = (1.0 + μ * Δt)x[n-1]\n",
    "end"
   ],
   "metadata": {},
   "execution_count": null
  },
  {
   "cell_type": "markdown",
   "source": [
    "De posse da solução podemos visualizar o crescimento exponencial e compará-lo com a solução exata"
   ],
   "metadata": {}
  },
  {
   "outputs": [],
   "cell_type": "code",
   "source": [
    "plot(t, x, title=\"Crescimento exponencial (x₀ = $x₀, μ = $μ, T = $T, Δt = $Δt)\", titlefont = 10, xlabel = \"t\", ylabel=\"x\", label=\"aproximação\")\n",
    "\n",
    "plot!(t, t -> x₀ * exp(μ * t), label=\"sol. exata\")"
   ],
   "metadata": {},
   "execution_count": null
  },
  {
   "cell_type": "markdown",
   "source": [
    "Refinando a malha, obtemos uma solução mais próxima, onde quase não vemos diferença:"
   ],
   "metadata": {}
  },
  {
   "outputs": [],
   "cell_type": "code",
   "source": [
    "Δt = 0.02\n",
    "t = t0:Δt:T\n",
    "N = Int(round(T/Δt))\n",
    "x = Vector{Float64}(undef, N+1)\n",
    "\n",
    "x[1] = x₀\n",
    "for n in 2:N+1\n",
    "    x[n] = (1.0 + μ * Δt)x[n-1]\n",
    "end\n",
    "\n",
    "plot(t, x, title=\"Crescimento exponencial (x₀ = $x₀, μ = $μ, T = $T, Δt = $Δt)\", titlefont = 10, xlabel = \"t\", ylabel=\"x\", label=\"aproximação\")\n",
    "\n",
    "plot!(t, t -> x₀ * exp(μ * t), label=\"sol. exata\")"
   ],
   "metadata": {},
   "execution_count": null
  },
  {
   "cell_type": "markdown",
   "source": [
    "## Parâmetros aleatórios"
   ],
   "metadata": {}
  },
  {
   "cell_type": "markdown",
   "source": [
    "Agora, vamos assumir uma incerteza em relação ao parâmetro, dada por uma distribuição normal, com média $\\mu_0$ e desvio padrão $\\sigma$: $\\mu = \\mathcal{N}(\\mu_0, \\sigma_0)$."
   ],
   "metadata": {}
  },
  {
   "cell_type": "markdown",
   "source": [
    "Façamos uma amostragem de um certo número de valores e resolvamos a equação para cada valor sorteado."
   ],
   "metadata": {}
  },
  {
   "outputs": [],
   "cell_type": "code",
   "source": [
    "n_a = 20\n",
    "μ₀ = 0.1\n",
    "σ₀ = 0.02\n",
    "μ = μ₀ .+ σ₀ * randn(n_a)\n",
    "\n",
    "histogram(μ, bins = 10)\n",
    "\n",
    "Δt = 0.2\n",
    "t = t0:Δt:T\n",
    "N = Int(round(T/Δt))\n",
    "x = Array{Float64}(undef, N+1, n_a)\n",
    "\n",
    "x[1, :] .= x₀\n",
    "for n in 2:N+1\n",
    "    x[n, :] .= (1.0 .+ μ * Δt) .* x[n-1, :]\n",
    "end\n",
    "\n",
    "plot(t, x, alpha = 0.2, legend = nothing, color=1)"
   ],
   "metadata": {},
   "execution_count": null
  },
  {
   "outputs": [],
   "cell_type": "code",
   "source": [
    "μ = μ₀ .+ σ₀ * randn(N, n_a)\n",
    "\n",
    "histogram(vec(μ), bins = 20)\n",
    "\n",
    "\n",
    "x[1, :] .= x₀\n",
    "for n in 2:N+1\n",
    "    x[n, :] .= (1.0 .+ μ[n-1, :] * Δt) .* x[n-1, :]\n",
    "end\n",
    "\n",
    "plot(t, x, alpha = 0.2, legend = nothing, color=1)\n",
    "\n",
    "plot!(t, x[:, 1], legend = nothing, color=2)"
   ],
   "metadata": {},
   "execution_count": null
  }
 ],
 "nbformat_minor": 3,
 "metadata": {
  "language_info": {
   "file_extension": ".jl",
   "mimetype": "application/julia",
   "name": "julia",
   "version": "1.7.2"
  },
  "kernelspec": {
   "name": "julia-1.7",
   "display_name": "Julia 1.7.2",
   "language": "julia"
  }
 },
 "nbformat": 4
}
