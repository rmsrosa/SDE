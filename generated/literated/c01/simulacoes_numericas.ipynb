{
 "cells": [
  {
   "cell_type": "markdown",
   "source": [
    "# Simulações numéricas"
   ],
   "metadata": {}
  },
  {
   "cell_type": "markdown",
   "source": [
    "Hora de implementarmos os métodos de Euler descritos na seção anterior."
   ],
   "metadata": {}
  },
  {
   "cell_type": "markdown",
   "source": [
    "Usaremos apenas dois pacotes do Julia. Um é o [Plots.jl](https://docs.juliaplots.org/stable/), para visualização das soluções. O outro é o [Random](https://docs.julialang.org/en/v1/stdlib/Random/), da biblioteca padrão, apenas para fixar a reprodução das notas (gerar sempre os mesmos conjuntos de números aleatórios)."
   ],
   "metadata": {}
  },
  {
   "outputs": [],
   "cell_type": "code",
   "source": [
    "using Plots\n",
    "theme(:ggplot2)\n",
    "using Random\n",
    "rng = Xoshiro(123)"
   ],
   "metadata": {},
   "execution_count": null
  },
  {
   "cell_type": "markdown",
   "source": [
    "## Equações diferenciais ordinárias"
   ],
   "metadata": {}
  },
  {
   "cell_type": "markdown",
   "source": [
    "Consideramos o problema de crescimento populacional\n",
    "$$\n",
    "\\begin{cases}\n",
    "  \\displaystyle \\frac{\\mathrm{d}x}{\\mathrm{d}t} = \\mu x, \\quad t > 0,\\\\\n",
    "  x(0) = x_0.\n",
    "\\end{cases}\n",
    "$$\n",
    "\n",
    "Para cada $\\mu > 0$ fixo, temos a solução $x(t) = x_0 e^{\\mu t}$, para $t \\geq 0$.\n",
    "\n",
    "Resolvendo o problema de valor inicial pelo método de Euler, em um intervalo $t_0 \\leq t \\leq T$, com $t_0 = 0$, $T > 0$ e um passo de tempo $\\Delta t > 0$, obtemos a sequência de valores aproximados\n",
    "$$\n",
    "x_{n+1} = x_n + \\mu \\Delta t x_n, \\quad n = 0, 1, \\dots, N,\n",
    "$$\n",
    "onde $N$ é um inteiro mais próximo de $T/\\Delta t$."
   ],
   "metadata": {}
  },
  {
   "cell_type": "markdown",
   "source": [
    "Escolhemos valores para $T$, $\\mu$ e $x_0$, além de $t_0=0$:"
   ],
   "metadata": {}
  },
  {
   "outputs": [],
   "cell_type": "code",
   "source": [
    "t0 = 0.0\n",
    "T = 20.0\n",
    "μ = 0.1\n",
    "x₀ = 0.2\n",
    "nothing"
   ],
   "metadata": {},
   "execution_count": null
  },
  {
   "cell_type": "markdown",
   "source": [
    "Escolhemos, também, um valor para o passo de tempo, obtendo a malha temporal:"
   ],
   "metadata": {}
  },
  {
   "outputs": [],
   "cell_type": "code",
   "source": [
    "Δt = 0.2\n",
    "t = t0:Δt:T"
   ],
   "metadata": {},
   "execution_count": null
  },
  {
   "cell_type": "markdown",
   "source": [
    "Isso nos dá $N+1$ pontos na malha, onde"
   ],
   "metadata": {}
  },
  {
   "outputs": [],
   "cell_type": "code",
   "source": [
    "N = Int(round(T/Δt))"
   ],
   "metadata": {},
   "execution_count": null
  },
  {
   "cell_type": "markdown",
   "source": [
    "Podemos pré-alocar um vetor para a solução numérica:"
   ],
   "metadata": {}
  },
  {
   "outputs": [],
   "cell_type": "code",
   "source": [
    "x = Vector{Float64}(undef, N+1)\n",
    "nothing"
   ],
   "metadata": {},
   "execution_count": null
  },
  {
   "cell_type": "markdown",
   "source": [
    "Iniciando o vetor com o valor de $x_0$ e iterando de acordo com o método de Euler, obtemos a solução numérica aproximada:"
   ],
   "metadata": {}
  },
  {
   "outputs": [],
   "cell_type": "code",
   "source": [
    "x[1] = x₀\n",
    "for n in 2:N+1\n",
    "    x[n] = (1.0 + μ * Δt)x[n-1]\n",
    "end"
   ],
   "metadata": {},
   "execution_count": null
  },
  {
   "cell_type": "markdown",
   "source": [
    "De posse da solução podemos visualizar o crescimento exponencial e compará-lo com a solução exata"
   ],
   "metadata": {}
  },
  {
   "outputs": [],
   "cell_type": "code",
   "source": [
    "plot(t, x, title=\"Crescimento exponencial (x₀ = $x₀, μ = $μ, T = $T, Δt = $Δt)\", titlefont = 10, xlabel = \"t\", ylabel=\"x\", label=\"aproximação\")\n",
    "\n",
    "plot!(t, t -> x₀ * exp(μ * t), label=\"sol. exata\")"
   ],
   "metadata": {},
   "execution_count": null
  },
  {
   "cell_type": "markdown",
   "source": [
    "Refinando a malha, obtemos uma solução mais próxima, onde quase não vemos diferença:"
   ],
   "metadata": {}
  },
  {
   "outputs": [],
   "cell_type": "code",
   "source": [
    "Δt = 0.02\n",
    "t = t0:Δt:T\n",
    "N = Int(round(T/Δt))\n",
    "x = Vector{Float64}(undef, N+1)\n",
    "\n",
    "x[1] = x₀\n",
    "for n in 2:N+1\n",
    "    x[n] = (1.0 + μ * Δt)x[n-1]\n",
    "end\n",
    "\n",
    "plot(t, x, title=\"Crescimento exponencial (x₀ = $x₀, μ = $μ, T = $T, Δt = $Δt)\", titlefont = 10, xlabel = \"t\", ylabel=\"x\", label=\"aproximação\", color=1)"
   ],
   "metadata": {},
   "execution_count": null
  },
  {
   "cell_type": "markdown",
   "source": [
    "## Parâmetros aleatórios"
   ],
   "metadata": {}
  },
  {
   "cell_type": "markdown",
   "source": [
    "Agora, vamos assumir uma incerteza em relação ao parâmetro, dada por uma distribuição normal, com média $\\bar\\mu$ e desvio padrão $\\sigma$: $\\mu = \\mathcal{N}(\\bar\\mu, \\sigma^2)$."
   ],
   "metadata": {}
  },
  {
   "cell_type": "markdown",
   "source": [
    "Façamos uma amostragem de um certo número $M$ de valores."
   ],
   "metadata": {}
  },
  {
   "outputs": [],
   "cell_type": "code",
   "source": [
    "M = 20\n",
    "μ̄ = 0.1\n",
    "σ = 0.02\n",
    "μ = μ̄ .+ σ * randn(rng, M)\n",
    "\n",
    "histogram(μ, bins = 10)"
   ],
   "metadata": {},
   "execution_count": null
  },
  {
   "cell_type": "markdown",
   "source": [
    "Agora, vamos resolver a equação para cada valor sorteado."
   ],
   "metadata": {}
  },
  {
   "outputs": [],
   "cell_type": "code",
   "source": [
    "Δt = 0.2\n",
    "t = t0:Δt:T\n",
    "N = Int(round(T/Δt))\n",
    "x = Array{Float64}(undef, N+1, M)\n",
    "\n",
    "x[1, :] .= x₀\n",
    "for n in 2:N+1\n",
    "    x[n, :] .= (1.0 .+ μ * Δt) .* x[n-1, :]\n",
    "end\n",
    "\n",
    "plot(t, x, alpha = 0.2, title=\"Conjunto de soluções (x₀ = $x₀, μ_t = N($μ̄, $σ), T = $T, Δt = $Δt)\", titlefont = 10, xlabel = \"t\", ylabel=\"x\", label=permutedims([\"soluções\"; fill(nothing, M-1)]), color=1)\n",
    "plot!(t, x[:, 1], label=\"uma realização\", color=2)"
   ],
   "metadata": {},
   "execution_count": null
  },
  {
   "cell_type": "markdown",
   "source": [
    "## Equação aleatória"
   ],
   "metadata": {}
  },
  {
   "cell_type": "markdown",
   "source": [
    "Consideramos, agora, a equação aleatória\n",
    "$$\n",
    "\\frac{\\mathrm{d}X_t}{\\mathrm{d}t} = \\mu_t X_t,\n",
    "$$\n",
    "onde $\\{\\mu_t\\}_t$ é um processo aleatório dado por $\\mu_t = \\bar\\mu + \\sigma \\sin(W_t)$, onde $\\bar\\mu, \\sigma > 0$ e $\\{W_t\\}_{t\\geq 0}$ é tal que $W_0 = 0$, e $W_{t + \\tau} - W_t \\sim \\mathcal{N}(0, \\tau)$ independentes."
   ],
   "metadata": {}
  },
  {
   "outputs": [],
   "cell_type": "code",
   "source": [
    "μ̄ = 0.1\n",
    "σ = 0.1\n",
    "\n",
    "for m in 1:M\n",
    "    x[1, m] = x₀\n",
    "    for n in 2:N+1\n",
    "        μt = μ̄ + σ * randn(rng) * √Δt\n",
    "        x[n, m] = (1.0 + μt * Δt) .* x[n-1, m]\n",
    "    end\n",
    "end\n",
    "\n",
    "plot(t, x, alpha = 0.2, title=\"Soluções RODE (x₀ = $x₀, μ_t = $μ̄ + $σ W_t), T = $T, Δt = $Δt)\", titlefont = 10, xlabel = \"t\", ylabel=\"x\", label=permutedims([\"soluções\"; fill(nothing, M-1)]), color=1)\n",
    "plot!(t, x[:, 1], label=\"uma realização\", color=2)"
   ],
   "metadata": {},
   "execution_count": null
  },
  {
   "cell_type": "markdown",
   "source": [
    "## Equação estocástica"
   ],
   "metadata": {}
  },
  {
   "cell_type": "markdown",
   "source": [
    "Finalmente, vamos considerar a equação estocástica\n",
    "$$\n",
    "\\mathrm{d}X_t = \\bar\\mu X_t \\mathrm{d}t + \\sigma X_t \\mathrm{d}W_t,\n",
    "$$\n",
    "onde $\\{W_t\\}_t$ é um processo aleatório. Mais especificamente, vamos assumir que $\\{W_t\\}_t$ é um **processo de Lévy**, tendo incrementos independentes e estacionários, com $\\Delta W_t = W_{t + \\Delta t} - W_t \\sim \\mathcal{N}(0, \\Delta t)$."
   ],
   "metadata": {}
  },
  {
   "outputs": [],
   "cell_type": "code",
   "source": [
    "μ̄ = 0.1\n",
    "σ = 0.05\n",
    "\n",
    "for m in 1:M\n",
    "    x[1, m] = x₀\n",
    "    for n in 2:N+1\n",
    "        dw = randn(rng) * Δt^0.5\n",
    "        x[n, m] = (1.0 + μ̄ * Δt) * x[n-1, m] + σ * x[n-1, m] * dw\n",
    "    end\n",
    "end\n",
    "\n",
    "plot(t, x, alpha = 0.2, title=\"Soluções SDE (x₀ = $x₀, μ̄ = $μ̄, σ = $σ, dW_t = N(0, Δt), T = $T, Δt = $Δt)\", titlefont = 9, xlabel = \"t\", ylabel=\"x\", label=permutedims([\"soluções\"; fill(nothing, M-1)]), color=1)\n",
    "plot!(t, x[:, 1], label=\"uma realização\", color=2)"
   ],
   "metadata": {},
   "execution_count": null
  },
  {
   "cell_type": "markdown",
   "source": [
    "## Exercícios\n",
    "\n",
    "1. Resolva, via método de Euler, a equação diferencial\n",
    "$$\n",
    "\\frac{\\mathrm{d}x}{\\mathrm{d}t} = (\\alpha - \\beta x) x, \\quad x(0) = x_0,\n",
    "$$\n",
    "com $\\alpha, \\beta > 0, 0 < x_0 < \\alpha / \\beta, t_0 = 0, T > 0, 0 < \\Delta t \\ll T $ de sua escolha. Trace o gráfico da solução.\n",
    "\n",
    "2. Resolva, via método de Euler, a equação diferencial\n",
    "$$\n",
    "\\mathrm{d}X_t/\\mathrm{d}t = (\\alpha - \\beta X_t) X_t, \\quad X_0 = \\mathcal{N}(\\bar{x}_0, \\sigma_{x_0}^2),\n",
    "$$\n",
    "onde\n",
    "$$\n",
    "\\alpha \\sim \\mathcal{N}(\\bar\\alpha, \\sigma_\\alpha^2), \\beta \\sim \\mathcal{N}(\\bar\\beta, \\sigma_\\beta^2),\n",
    "$$\n",
    "com $\\bar\\alpha, \\sigma_\\alpha, \\bar\\beta, \\sigma_\\beta, \\bar{x}_0, \\sigma_{x_0} > 0, t_0 = 0, T > 0, 0 < \\Delta t \\ll T$ de sua escolha. Trace o gráfico de um conjunto de realizações dos parâmetros\n",
    "\n",
    "3. Resolva, via método de Euler, a equação diferencial aleatória\n",
    "$$\n",
    "\\mathrm{d}X_t/\\mathrm{d}t = (A_t - b X_t) X_t, \\quad X_0 = x_0,\n",
    "$$\n",
    "onde $A_t = a + \\sigma\\sin(W_t)$ e $W_{t + \\tau} - W_t \\sim \\mathcal{N}(0, \\tau)$, com $a, b, \\sigma > 0$, $0 < x_0 < a / b$, $t_0 = 0$, $T > 0$ e $0 < \\Delta t \\ll T$ de sua escolha. Trace o gráfico de um conjunto de realizações dos parâmetros.\n",
    "\n",
    "4. Resolva, via método de Euler, a equação diferencial estocástica\n",
    "$$\n",
    "\\mathrm{d}X_t = (\\alpha - \\beta X_t) X_t \\mathrm{d}t + \\sigma X_t \\mathrm{d}W_t, \\quad X_0 = x_0,\n",
    "$$\n",
    "onde $W_{t + \\tau} - W_t \\sim \\mathcal{N}(0, \\tau)$, com $\\alpha, \\beta > 0$, $0 < x_0 < \\alpha / \\beta$, $\\sigma > 0$, $t_0 = 0$, $T > 0$ e $0 < \\Delta t \\ll T$ de sua escolha. Trace o gráfico de um conjunto de realizações dos parâmetros."
   ],
   "metadata": {}
  }
 ],
 "nbformat_minor": 3,
 "metadata": {
  "language_info": {
   "file_extension": ".jl",
   "mimetype": "application/julia",
   "name": "julia",
   "version": "1.7.2"
  },
  "kernelspec": {
   "name": "julia-1.7",
   "display_name": "Julia 1.7.2",
   "language": "julia"
  }
 },
 "nbformat": 4
}
